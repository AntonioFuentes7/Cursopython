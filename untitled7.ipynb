# -*- coding: utf-8 -*-
"""
Created on Fri Jun 21 10:19:16 2024

@author: Asus
"""

from sympy import *
x,y,z=symbols("x,y,z")
a=linsolve([2*x+3*y+4*z-3,2*x+6*y+8*z-5,4*x+9*y-4*z-4],[x,y,z])
print(a)
