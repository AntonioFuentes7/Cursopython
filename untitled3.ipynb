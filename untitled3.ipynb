# -*- coding: utf-8 -*-
"""
Created on Thu Jun 20 11:02:16 2024

@author: Asus
"""

#Complejos

z1=complex(input("Dame un complejo: "))
z2=complex(input("Dame otro complejo: "))
print(z1+z2)
print(z1-z2)
print(z1*z2)
print(z1/z2)
print(z1**z2)
