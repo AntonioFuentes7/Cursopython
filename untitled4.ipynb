# -*- coding: utf-8 -*-
"""
Created on Thu Jun 20 11:26:53 2024

@author: Asus
"""

#Sistemas de ecuaciones

import numpy as np
from scipy.linalg import solve

A=np.array([[2,3,4],[2,6,8],[4,9,-4]])
b=np.array([3,5,4])
x=solve(A,b)
print("La solución es: ",x)

