# -*- coding: utf-8 -*-
"""
Spyder Editor

This is a temporary script file.
"""
var1 = ("Dame un valor")
print(var1)


entero1 = int(input("Dame un 1er entero"))
entero2 = int(input("Dame un 2do entero"))
print(entero1)
print(entero2)

print("La suma es",entero1+entero2)

print("La división es",entero1 / entero2)

print("El producto es", entero1*entero2)

print("La resta es",entero1-entero2)

print("La potencia es",entero1**entero2)

print("El cociente es",entero1//entero2)

print("El cociente completo es", entero1/entero2)

print(entero1%entero2)



