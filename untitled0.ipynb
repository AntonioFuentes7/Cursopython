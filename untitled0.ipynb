# -*- coding: utf-8 -*-
"""
Created on Tue Jun 18 11:43:50 2024

@author: Asus
"""

#Algoritmo de Euclides

a=int(input("Dame un 1er entero: "))
b=int(input("Dame un 2do entero: "))
q=a//b
r=a-b*q
while r!=0:
    a=b
    b=r
    print(a,b)
    q=a//b
    r=a-b*q
print("El máximo común divisor es: ",b)
