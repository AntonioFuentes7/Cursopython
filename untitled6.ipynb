# -*- coding: utf-8 -*-
"""
Created on Fri Jun 21 10:08:03 2024

@author: Asus
"""

import numpy as np
from scipy.linalg import solve

A=([[2,3,4],[2,6,8],[4,9,-4]])
b=([3,5,4])
x=solve(A,b)
print("La solución es: ",x)

