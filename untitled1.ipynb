# -*- coding: utf-8 -*-
"""
Created on Wed Jun 19 11:25:51 2024

@author: Asus
"""

prop1=True
prop2=False
print(not prop2)
print(prop1 and prop2)
print(prop1 or prop2)
print(prop1 and not prop2 )

#Conjuntos

Uf={x for x in range(1,21)}
print(Uf)

A={x for x in Uf if x%2 == 0 and x<10}
print(A)
G={x for x in Uf if 2<x and x<=6}
print(G)
E={x for x in Uf if x<10}
print(E)

Ec=Uf-E
Ecc=Uf-Ec
AminG=A-G
AminGc=Uf-AminG
resultado=AminG and Ecc
print(Ecc)
print(AminG)
print(AminGc)
print(resultado)

