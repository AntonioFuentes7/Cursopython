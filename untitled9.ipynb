# -*- coding: utf-8 -*-
"""
Created on Fri Jun 21 10:57:00 2024

@author: Asus
"""

#Para intervalos de valores
import numpy
ls=numpy.linspace(0,10*numpy.pi,100)
ar=numpy.arange(0,10*numpy.pi,0.1)
print(ls)
print(ar)

import matplotlib.pyplot as plt
res=numpy.sin(ls)
plt.plot(ls,res)
plt.show()
