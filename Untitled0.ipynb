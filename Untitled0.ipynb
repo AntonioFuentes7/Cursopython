{
  "nbformat": 4,
  "nbformat_minor": 0,
  "metadata": {
    "colab": {
      "provenance": [],
      "authorship_tag": "ABX9TyNtGCdPs2nJNWasDcMFf2BM",
      "include_colab_link": true
    },
    "kernelspec": {
      "name": "python3",
      "display_name": "Python 3"
    },
    "language_info": {
      "name": "python"
    }
  },
  "cells": [
    {
      "cell_type": "markdown",
      "metadata": {
        "id": "view-in-github",
        "colab_type": "text"
      },
      "source": [
        "<a href=\"https://colab.research.google.com/github/AntonioFuentes7/Cursopython/blob/main/Untitled0.ipynb\" target=\"_parent\"><img src=\"https://colab.research.google.com/assets/colab-badge.svg\" alt=\"Open In Colab\"/></a>"
      ]
    },
    {
      "cell_type": "code",
      "execution_count": null,
      "metadata": {
        "id": "J9FBMPqbCJx7"
      },
      "outputs": [],
      "source": []
    },
    {
      "cell_type": "markdown",
      "source": [
        "Mi primer programa"
      ],
      "metadata": {
        "id": "TqSCpvNeDBzB"
      }
    },
    {
      "cell_type": "code",
      "source": [
        "14+2"
      ],
      "metadata": {
        "colab": {
          "base_uri": "https://localhost:8080/"
        },
        "id": "LHw_WwoDDI37",
        "outputId": "2e267791-ee66-4063-bcab-c89336fe2d8e"
      },
      "execution_count": null,
      "outputs": [
        {
          "output_type": "execute_result",
          "data": {
            "text/plain": [
              "16"
            ]
          },
          "metadata": {},
          "execution_count": 1
        }
      ]
    },
    {
      "cell_type": "code",
      "source": [
        "1 print(\"Curso de...\")"
      ],
      "metadata": {
        "id": "lYzK2wSNDhAM"
      },
      "execution_count": null,
      "outputs": []
    },
    {
      "cell_type": "code",
      "source": [
        "# prompt: suma dos números\n",
        "\n",
        "x = 10\n",
        "y = 20\n",
        "print(x + y)\n"
      ],
      "metadata": {
        "id": "vMedO7H8FDMj"
      },
      "execution_count": null,
      "outputs": []
    },
    {
      "cell_type": "code",
      "source": [
        "votos=123456789\n",
        "padron_electoral=340_123_456\n",
        "porcentaje=votos/padron_electoral\n",
        "print(\"De {:7} votantes solo votaron {:9d} \\n que equivale al {:2.2%} de votantes\".format(padron_electoral,votos,porcentaje))"
      ],
      "metadata": {
        "colab": {
          "base_uri": "https://localhost:8080/"
        },
        "id": "ukOCIqDT16lS",
        "outputId": "359e1f3a-ebbc-4798-bd61-d19af8245877"
      },
      "execution_count": null,
      "outputs": [
        {
          "output_type": "stream",
          "name": "stdout",
          "text": [
            "De 340123456 votantes solo votaron 123456789 \n",
            " que equivale al 36.30% de votantes\n"
          ]
        }
      ]
    },
    {
      "cell_type": "code",
      "source": [],
      "metadata": {
        "id": "g0sqv5G92D-_"
      },
      "execution_count": null,
      "outputs": []
    },
    {
      "cell_type": "markdown",
      "source": [
        "# Sección nueva"
      ],
      "metadata": {
        "id": "atf9eb8G1n8x"
      }
    }
  ]
}