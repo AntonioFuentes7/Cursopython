{
  "nbformat": 4,
  "nbformat_minor": 0,
  "metadata": {
    "colab": {
      "provenance": [],
      "authorship_tag": "ABX9TyMPpATFNGbJOMLyVuLTAMIh",
      "include_colab_link": true
    },
    "kernelspec": {
      "name": "python3",
      "display_name": "Python 3"
    },
    "language_info": {
      "name": "python"
    }
  },
  "cells": [
    {
      "cell_type": "markdown",
      "metadata": {
        "id": "view-in-github",
        "colab_type": "text"
      },
      "source": [
        "<a href=\"https://colab.research.google.com/github/AntonioFuentes7/Cursopython/blob/main/26_de_junio.ipynb\" target=\"_parent\"><img src=\"https://colab.research.google.com/assets/colab-badge.svg\" alt=\"Open In Colab\"/></a>"
      ]
    },
    {
      "cell_type": "code",
      "execution_count": null,
      "metadata": {
        "colab": {
          "base_uri": "https://localhost:8080/",
          "height": 37
        },
        "id": "6nSrAHyPBj2-",
        "outputId": "6008a8b1-d64c-4ce3-97fa-de5d800d44d6"
      },
      "outputs": [
        {
          "output_type": "execute_result",
          "data": {
            "text/plain": [
              "1"
            ],
            "text/latex": "$\\displaystyle 1$"
          },
          "metadata": {},
          "execution_count": 1
        }
      ],
      "source": [
        "from sympy import symbols, limit, sin\n",
        "x = symbols(\"x\")\n",
        "limit(sin(x)/x, x, 0)\n"
      ]
    },
    {
      "cell_type": "code",
      "source": [
        "from sympy import symbols, limit, sin, pi\n",
        "x = symbols(\"x\")\n",
        "limit((1-2*sin(x))/(pi-6*x), x, pi/6)\n"
      ],
      "metadata": {
        "colab": {
          "base_uri": "https://localhost:8080/",
          "height": 55
        },
        "id": "zynE4Bl8YDlR",
        "outputId": "51b10759-ed05-468e-a9f4-818905a677a3"
      },
      "execution_count": null,
      "outputs": [
        {
          "output_type": "execute_result",
          "data": {
            "text/plain": [
              "sqrt(3)/6"
            ],
            "text/latex": "$\\displaystyle \\frac{\\sqrt{3}}{6}$"
          },
          "metadata": {},
          "execution_count": 9
        }
      ]
    },
    {
      "cell_type": "code",
      "source": [
        "from sympy import symbols, diff, sin\n",
        "x = symbols(\"x\")\n",
        "diff(sin(x)/x, x)\n"
      ],
      "metadata": {
        "colab": {
          "base_uri": "https://localhost:8080/",
          "height": 53
        },
        "id": "IjVInfIWZPPk",
        "outputId": "01627307-4b98-4435-b90c-f37b7ea23523"
      },
      "execution_count": null,
      "outputs": [
        {
          "output_type": "execute_result",
          "data": {
            "text/plain": [
              "cos(x)/x - sin(x)/x**2"
            ],
            "text/latex": "$\\displaystyle \\frac{\\cos{\\left(x \\right)}}{x} - \\frac{\\sin{\\left(x \\right)}}{x^{2}}$"
          },
          "metadata": {},
          "execution_count": 3
        }
      ]
    },
    {
      "cell_type": "code",
      "source": [],
      "metadata": {
        "id": "-vAfZlm1p27V"
      },
      "execution_count": null,
      "outputs": []
    },
    {
      "cell_type": "code",
      "source": [],
      "metadata": {
        "id": "9DNwuOx2pyAv"
      },
      "execution_count": null,
      "outputs": []
    },
    {
      "cell_type": "code",
      "source": [
        "from sympy import symbols, diff, ln, exp\n",
        "x = symbols(\"x\")\n",
        "diff(ln(4**(7*x**2)/(5*exp(3*x**5))), x)\n"
      ],
      "metadata": {
        "colab": {
          "base_uri": "https://localhost:8080/",
          "height": 68
        },
        "id": "lcL6Fm_Xa530",
        "outputId": "3ebcc9ac-26b4-4ef0-8f08-cc7cda63866d"
      },
      "execution_count": null,
      "outputs": [
        {
          "output_type": "execute_result",
          "data": {
            "text/plain": [
              "5*(-3*4**(7*x**2)*x**4*exp(-3*x**5) + 14*4**(7*x**2)*x*exp(-3*x**5)*log(4)/5)*exp(3*x**5)/4**(7*x**2)"
            ],
            "text/latex": "$\\displaystyle 5 \\cdot 4^{- 7 x^{2}} \\left(- 3 \\cdot 4^{7 x^{2}} x^{4} e^{- 3 x^{5}} + \\frac{14 \\cdot 4^{7 x^{2}} x e^{- 3 x^{5}} \\log{\\left(4 \\right)}}{5}\\right) e^{3 x^{5}}$"
          },
          "metadata": {},
          "execution_count": 5
        }
      ]
    },
    {
      "cell_type": "code",
      "source": [
        "from sympy import symbols, integrate, sqrt\n",
        "x = symbols(\"x\")\n",
        "integrate((1-x)/(sqrt(2-x)), x)\n",
        "\n",
        "\n",
        "\n",
        "\n"
      ],
      "metadata": {
        "colab": {
          "base_uri": "https://localhost:8080/",
          "height": 69
        },
        "id": "U32QAaFNlBIG",
        "outputId": "b48d26d9-481a-4781-bca7-4b3d43a5b688"
      },
      "execution_count": null,
      "outputs": [
        {
          "output_type": "execute_result",
          "data": {
            "text/plain": [
              "Piecewise((2*I*sqrt(x - 2)*(x - 1)/3 + 4*I*sqrt(x - 2)/3, Abs(x - 1) > 1), (2*sqrt(2 - x)*(x - 1)/3 + 4*sqrt(2 - x)/3, True))"
            ],
            "text/latex": "$\\displaystyle \\begin{cases} \\frac{2 i \\sqrt{x - 2} \\left(x - 1\\right)}{3} + \\frac{4 i \\sqrt{x - 2}}{3} & \\text{for}\\: \\left|{x - 1}\\right| > 1 \\\\\\frac{2 \\sqrt{2 - x} \\left(x - 1\\right)}{3} + \\frac{4 \\sqrt{2 - x}}{3} & \\text{otherwise} \\end{cases}$"
          },
          "metadata": {},
          "execution_count": 10
        }
      ]
    },
    {
      "cell_type": "code",
      "source": [
        "import numpy as np\n",
        "import matplotlib.pyplot as plt\n",
        "\n",
        "paso = 0.1\n",
        "p = np.arange(-1,1,paso)\n",
        "\n",
        "ft = np.sin(np.sqrt(3)*p)*np.tan(p)\n",
        "\n",
        "plt.plt(p, ft, \"r\")\n",
        "plt.fill_between(p, ft, color=(1,.616,0,.459))\n",
        "plt.title(\"sin[3^(1/2)t]tan(t)\")\n",
        "plt.sow()\n"
      ],
      "metadata": {
        "colab": {
          "base_uri": "https://localhost:8080/",
          "height": 211
        },
        "id": "PezKAafvp-ma",
        "outputId": "09ac5a79-11df-48d5-e2ce-9cb342102527"
      },
      "execution_count": null,
      "outputs": [
        {
          "output_type": "error",
          "ename": "AttributeError",
          "evalue": "module 'matplotlib.pyplot' has no attribute 'plt'",
          "traceback": [
            "\u001b[0;31m---------------------------------------------------------------------------\u001b[0m",
            "\u001b[0;31mAttributeError\u001b[0m                            Traceback (most recent call last)",
            "\u001b[0;32m<ipython-input-12-71ac2e7a577a>\u001b[0m in \u001b[0;36m<cell line: 9>\u001b[0;34m()\u001b[0m\n\u001b[1;32m      7\u001b[0m \u001b[0mft\u001b[0m \u001b[0;34m=\u001b[0m \u001b[0mnp\u001b[0m\u001b[0;34m.\u001b[0m\u001b[0msin\u001b[0m\u001b[0;34m(\u001b[0m\u001b[0mnp\u001b[0m\u001b[0;34m.\u001b[0m\u001b[0msqrt\u001b[0m\u001b[0;34m(\u001b[0m\u001b[0;36m3\u001b[0m\u001b[0;34m)\u001b[0m\u001b[0;34m*\u001b[0m\u001b[0mp\u001b[0m\u001b[0;34m)\u001b[0m\u001b[0;34m*\u001b[0m\u001b[0mnp\u001b[0m\u001b[0;34m.\u001b[0m\u001b[0mtan\u001b[0m\u001b[0;34m(\u001b[0m\u001b[0mp\u001b[0m\u001b[0;34m)\u001b[0m\u001b[0;34m\u001b[0m\u001b[0;34m\u001b[0m\u001b[0m\n\u001b[1;32m      8\u001b[0m \u001b[0;34m\u001b[0m\u001b[0m\n\u001b[0;32m----> 9\u001b[0;31m \u001b[0mplt\u001b[0m\u001b[0;34m.\u001b[0m\u001b[0mplt\u001b[0m\u001b[0;34m(\u001b[0m\u001b[0mp\u001b[0m\u001b[0;34m,\u001b[0m \u001b[0mft\u001b[0m\u001b[0;34m,\u001b[0m \u001b[0;34m\"r\"\u001b[0m\u001b[0;34m)\u001b[0m\u001b[0;34m\u001b[0m\u001b[0;34m\u001b[0m\u001b[0m\n\u001b[0m\u001b[1;32m     10\u001b[0m \u001b[0mplt\u001b[0m\u001b[0;34m.\u001b[0m\u001b[0mfill_between\u001b[0m\u001b[0;34m(\u001b[0m\u001b[0mp\u001b[0m\u001b[0;34m,\u001b[0m \u001b[0mft\u001b[0m\u001b[0;34m,\u001b[0m \u001b[0mcolor\u001b[0m\u001b[0;34m=\u001b[0m\u001b[0;34m(\u001b[0m\u001b[0;36m1\u001b[0m\u001b[0;34m,\u001b[0m\u001b[0;36m.616\u001b[0m\u001b[0;34m,\u001b[0m\u001b[0;36m0\u001b[0m\u001b[0;34m,\u001b[0m\u001b[0;36m.459\u001b[0m\u001b[0;34m)\u001b[0m\u001b[0;34m)\u001b[0m\u001b[0;34m\u001b[0m\u001b[0;34m\u001b[0m\u001b[0m\n\u001b[1;32m     11\u001b[0m \u001b[0mplt\u001b[0m\u001b[0;34m.\u001b[0m\u001b[0mtitle\u001b[0m\u001b[0;34m(\u001b[0m\u001b[0;34m\"sin[3^(1/2)t]tan(t)\"\u001b[0m\u001b[0;34m)\u001b[0m\u001b[0;34m\u001b[0m\u001b[0;34m\u001b[0m\u001b[0m\n",
            "\u001b[0;31mAttributeError\u001b[0m: module 'matplotlib.pyplot' has no attribute 'plt'"
          ]
        }
      ]
    }
  ]
}