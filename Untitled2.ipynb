{
  "nbformat": 4,
  "nbformat_minor": 0,
  "metadata": {
    "colab": {
      "provenance": [],
      "authorship_tag": "ABX9TyOcvteJcxTwALjBFmv2Iu/M",
      "include_colab_link": true
    },
    "kernelspec": {
      "name": "python3",
      "display_name": "Python 3"
    },
    "language_info": {
      "name": "python"
    }
  },
  "cells": [
    {
      "cell_type": "markdown",
      "metadata": {
        "id": "view-in-github",
        "colab_type": "text"
      },
      "source": [
        "<a href=\"https://colab.research.google.com/github/AntonioFuentes7/Cursopython/blob/main/Untitled2.ipynb\" target=\"_parent\"><img src=\"https://colab.research.google.com/assets/colab-badge.svg\" alt=\"Open In Colab\"/></a>"
      ]
    },
    {
      "cell_type": "markdown",
      "source": [
        "Cálculo de raíces reales positivas con elmétodo babilónico."
      ],
      "metadata": {
        "id": "TyQG44WvQ_Bq"
      }
    },
    {
      "cell_type": "code",
      "execution_count": null,
      "metadata": {
        "colab": {
          "base_uri": "https://localhost:8080/"
        },
        "id": "kXfvwAcHQ1Rv",
        "outputId": "ed2b5113-7dd8-4222-a301-c272fb313840"
      },
      "outputs": [
        {
          "output_type": "stream",
          "name": "stdout",
          "text": [
            "\\begin{equation}\n",
            "x_{n+1} = \\frac{1}{2}(x_n + \\frac{f(x_n)}{f\\'(x_n)})\n",
            "\\end{equation}\n"
          ]
        }
      ],
      "source": [
        "print(r'\\begin{equation}')\n",
        "print(r'x_{n+1} = \\frac{1}{2}(x_n + \\frac{f(x_n)}{f\\'(x_n)})')\n",
        "print(r'\\end{equation}')"
      ]
    },
    {
      "cell_type": "code",
      "source": [
        "serieRaiz=[]\n",
        "\n",
        "n=80\n",
        "x=8\n",
        "\n",
        "for i in range(6):\n",
        "    x=(1/2)*(x+(n/x))\n",
        "    serieRaiz.append(x)\n",
        "print(\"La raíz aproximada de {0} es {1:.20}\".format(n,x))\n",
        "print(\"La raíz con math de {0} es {1:.20}\".format(n,x))"
      ],
      "metadata": {
        "id": "xzaAAB_NS46e"
      },
      "execution_count": null,
      "outputs": []
    }
  ]
}