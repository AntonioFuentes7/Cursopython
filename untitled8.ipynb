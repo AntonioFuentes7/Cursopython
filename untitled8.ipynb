# -*- coding: utf-8 -*-
"""
Created on Fri Jun 21 10:43:20 2024

@author: Asus
"""

#El problema de los equipos de futbol

import numpy as np
a=[[16/13,16/13],[1,-1]]
b=[72000,8500]
x=np.linalg.solve(a,b)
print("La solución del sistema es ",x)
