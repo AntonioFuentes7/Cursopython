# -*- coding: utf-8 -*-
"""
Created on Thu Jun 20 11:46:36 2024

@author: Asus
"""

#Sistema de ecuaciones con complejos
import numpy as np
from scipy.linalg import solve

z1=complex(input("Dame z1 "))
z2=complex(input("Dame z2 "))
a=z1.real
b=z1.imag
c=z2.real
d=z2.imag
print("a = ",a)
print("b = ",b)
print("c = ",c)
print("d = ",d)
print(z1/z2)
A=np.array([[c,-d],[d,c]])
B=np.array([a,b])
x=solve(A,B)
print("La solución de la división con sistema de ecuaciones es: ", x)
