# -*- coding: utf-8 -*-
"""
Created on Fri Jun 21 11:24:11 2024

@author: Asus
"""

#Suma de vectores

import matplotlib.pyplot as plt
def sumaVectores(z1,z2):
    return(z1[0]+z2[0],z1[1]+z2[1])

z1=(2,1)
z2=(3,4)
suma=sumaComplejos(z1,z2)

#Grafica la suma
plt.quiver(0,0,z1[0],z1[1],color="g",units="xy",scale=1)
plt.quiver(z1[0],z1[1],z2[0],z2[1],color="b",units"xy",scale=1)
